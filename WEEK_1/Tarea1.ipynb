{
 "cells": [
  {
   "cell_type": "markdown",
   "id": "75bb0599",
   "metadata": {},
   "source": [
    "# Tarea 1\n",
    "## Redes Neuronales Avanzadas\n",
    "**Universidad de Guadalajara**  \n",
    "26 de octubre de 2025\n",
    "\n",
    "---\n",
    "\n",
    "### Resumen\n",
    "\n",
    "El objetivo es revisar el modelo de redes neuronales convolucionales y su implementación en PyTorch. Por favor, suba sus soluciones en un archivo comprimido a Classroom antes del 4 de noviembre.\n",
    "\n",
    "---"
   ]
  },
  {
   "cell_type": "markdown",
   "id": "22a5e73b",
   "metadata": {},
   "source": [
    "## Problema 1\n",
    "\n",
    "Realice la implementación en Python de LeNet-5 y úsela para clasificar el conjunto de datos MNIST."
   ]
  },
  {
   "cell_type": "code",
   "execution_count": null,
   "id": "fb94fb85",
   "metadata": {},
   "outputs": [],
   "source": [
    "# Celda de código para desarrollo\n"
   ]
  },
  {
   "cell_type": "code",
   "execution_count": null,
   "id": "472ae5d8",
   "metadata": {},
   "outputs": [],
   "source": [
    "# Celda de código para desarrollo\n"
   ]
  },
  {
   "cell_type": "markdown",
   "id": "b8b14f19",
   "metadata": {},
   "source": [
    "## Problema 2\n",
    "\n",
    "Lea el artículo de AlexNet [1].\n",
    "\n",
    "**Fuente:** [A. Krizhevsky, I. Sutskever, G.E. Hinton, ImageNet Classification with Deep Convolutional Neural Networks, Advances in Neural Information Processing Systems 25, 2012](https://papers.nips.cc/paper/2012/hash/c399862d3b9d6b76c8436e924a68c45b-Abstract.html)"
   ]
  },
  {
   "cell_type": "code",
   "execution_count": null,
   "id": "7efc50c6",
   "metadata": {},
   "outputs": [],
   "source": [
    "# Celda de código para desarrollo\n"
   ]
  },
  {
   "cell_type": "code",
   "execution_count": null,
   "id": "2a5cd4e2",
   "metadata": {},
   "outputs": [],
   "source": [
    "# Celda de código para desarrollo\n"
   ]
  },
  {
   "cell_type": "markdown",
   "id": "0ef917c4",
   "metadata": {},
   "source": [
    "## Problema 3\n",
    "\n",
    "Realice la implementación en Python de AlexNet y úsela para clasificar el conjunto de datos de [2]. Puede definir un problema de clasificación de su interés, como clasificar imágenes por temporada o similar.\n",
    "\n",
    "**Fuente:** [https://www.kaggle.com/datasets/paramaggarwal/fashion-product-images-small](https://www.kaggle.com/datasets/paramaggarwal/fashion-product-images-small)"
   ]
  },
  {
   "cell_type": "code",
   "execution_count": null,
   "id": "c106dd1b",
   "metadata": {},
   "outputs": [],
   "source": [
    "# Celda de código para desarrollo\n"
   ]
  },
  {
   "cell_type": "code",
   "execution_count": null,
   "id": "502eeba5",
   "metadata": {},
   "outputs": [],
   "source": [
    "# Celda de código para desarrollo\n"
   ]
  },
  {
   "cell_type": "markdown",
   "id": "2a3b11b3",
   "metadata": {},
   "source": [
    "## Problema 4\n",
    "\n",
    "Lea el artículo de VGG-16 [3]. Escriba las similitudes y principales diferencias entre LeNet-5, AlexNet y VGG-16.\n",
    "\n",
    "**Fuente:** [K. Simonyan, A. Zisserman, Very Deep Convolutional Networks for Large-Scale Image Recognition, arXiv:1409.1556, 2015](https://arxiv.org/abs/1409.1556)"
   ]
  },
  {
   "cell_type": "code",
   "execution_count": null,
   "id": "15173881",
   "metadata": {},
   "outputs": [],
   "source": [
    "# Celda de código para desarrollo\n"
   ]
  },
  {
   "cell_type": "code",
   "execution_count": null,
   "id": "4ac0518c",
   "metadata": {},
   "outputs": [],
   "source": [
    "# Celda de código para desarrollo\n"
   ]
  },
  {
   "cell_type": "markdown",
   "id": "e5e939cf",
   "metadata": {},
   "source": [
    "---\n",
    "\n",
    "## Referencias\n",
    "\n",
    "[1] A. Krizhevsky, I. Sutskever, G.E. Hinton, *ImageNet Classification with Deep Convolutional Neural Networks*, Advances in Neural Information Processing Systems 25, 2012.\n",
    "\n",
    "[2] Fashion Product Images (Small) Dataset: https://www.kaggle.com/datasets/paramaggarwal/fashion-product-images-small\n",
    "\n",
    "[3] K. Simonyan, A. Zisserman, *Very Deep Convolutional Networks for Large-Scale Image Recognition*, arXiv:1409.1556, 2015."
   ]
  }
 ],
 "metadata": {
  "language_info": {
   "name": "python"
  }
 },
 "nbformat": 4,
 "nbformat_minor": 5
}
