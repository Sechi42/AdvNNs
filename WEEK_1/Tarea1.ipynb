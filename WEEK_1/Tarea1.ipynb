{
 "cells": [
  {
   "cell_type": "markdown",
   "id": "75bb0599",
   "metadata": {},
   "source": [
    "# Tarea 1\n",
    "## Redes Neuronales Avanzadas\n",
    "**Universidad de Guadalajara**  \n",
    "26 de octubre de 2025\n",
    "\n",
    "---\n",
    "\n",
    "### Resumen\n",
    "\n",
    "El objetivo es revisar el modelo de redes neuronales convolucionales y su implementación en PyTorch. Por favor, suba sus soluciones en un archivo comprimido a Classroom antes del 4 de noviembre.\n",
    "\n",
    "---"
   ]
  },
  {
   "cell_type": "markdown",
   "id": "22a5e73b",
   "metadata": {},
   "source": [
    "## Problema 1\n",
    "\n",
    "Realice la implementación en Python de LeNet-5 y úsela para clasificar el conjunto de datos MNIST."
   ]
  },
  {
   "cell_type": "code",
   "execution_count": 16,
   "id": "fb94fb85",
   "metadata": {},
   "outputs": [
    {
     "name": "stdout",
     "output_type": "stream",
     "text": [
      "Usando dispositivo: cuda\n"
     ]
    },
    {
     "name": "stderr",
     "output_type": "stream",
     "text": [
      "100%|██████████| 9.91M/9.91M [00:00<00:00, 15.1MB/s]\n",
      "\n",
      "100%|██████████| 28.9k/28.9k [00:00<00:00, 522kB/s]\n",
      "\n",
      "100%|██████████| 1.65M/1.65M [00:00<00:00, 4.20MB/s]\n",
      "\n",
      "100%|██████████| 4.54k/4.54k [00:00<00:00, 7.47MB/s]"
     ]
    },
    {
     "name": "stdout",
     "output_type": "stream",
     "text": [
      "Tamaño del conjunto de entrenamiento: 60000\n",
      "Tamaño del conjunto de prueba: 10000\n"
     ]
    },
    {
     "name": "stderr",
     "output_type": "stream",
     "text": [
      "\n"
     ]
    }
   ],
   "source": [
    "import torch\n",
    "import torch.nn as nn\n",
    "import torch.optim as optim\n",
    "from torch.utils.data import DataLoader\n",
    "from torchvision import datasets, transforms\n",
    "import matplotlib.pyplot as plt\n",
    "import numpy as np\n",
    "from tqdm import tqdm\n",
    "\n",
    "# Configuración del dispositivo\n",
    "device = torch.device(\"cuda\" if torch.cuda.is_available() else \"cpu\")\n",
    "print(f\"Usando dispositivo: {device}\")\n",
    "\n",
    "# Transformaciones para MNIST\n",
    "transform = transforms.Compose([\n",
    "    transforms.Resize((32, 32)),  # LeNet-5 espera imágenes de 32x32\n",
    "    transforms.ToTensor(),\n",
    "    transforms.Normalize((0.1307,), (0.3081,))  # Media y desviación estándar de MNIST\n",
    "])\n",
    "\n",
    "# Descargar y cargar datos MNIST\n",
    "train_dataset = datasets.MNIST(root='./data', train=True, download=True, transform=transform)\n",
    "test_dataset = datasets.MNIST(root='./data', train=False, download=True, transform=transform)\n",
    "\n",
    "train_loader = DataLoader(train_dataset, batch_size=64, shuffle=True)\n",
    "test_loader = DataLoader(test_dataset, batch_size=1000, shuffle=False)\n",
    "\n",
    "print(f\"Tamaño del conjunto de entrenamiento: {len(train_dataset)}\")\n",
    "print(f\"Tamaño del conjunto de prueba: {len(test_dataset)}\")"
   ]
  },
  {
   "cell_type": "code",
   "execution_count": 17,
   "id": "472ae5d8",
   "metadata": {},
   "outputs": [
    {
     "name": "stdout",
     "output_type": "stream",
     "text": [
      "Arquitectura de LeNet-5:\n",
      "LeNet5(\n",
      "  (conv1): Conv2d(1, 6, kernel_size=(5, 5), stride=(1, 1))\n",
      "  (pool1): AvgPool2d(kernel_size=2, stride=2, padding=0)\n",
      "  (conv2): Conv2d(6, 16, kernel_size=(5, 5), stride=(1, 1))\n",
      "  (pool2): AvgPool2d(kernel_size=2, stride=2, padding=0)\n",
      "  (conv3): Conv2d(16, 120, kernel_size=(5, 5), stride=(1, 1))\n",
      "  (fc1): Linear(in_features=120, out_features=84, bias=True)\n",
      "  (fc2): Linear(in_features=84, out_features=10, bias=True)\n",
      ")\n",
      "\n",
      "Total de parámetros: 61706\n"
     ]
    }
   ],
   "source": [
    "class LeNet5(nn.Module):\n",
    "    \"\"\"\n",
    "    Implementación de LeNet-5 según el paper original de Yann LeCun (1998).\n",
    "    \n",
    "    Arquitectura:\n",
    "    - C1: Convolución 6 filtros 5x5\n",
    "    - S2: Pooling promedio 2x2\n",
    "    - C3: Convolución 16 filtros 5x5\n",
    "    - S4: Pooling promedio 2x2\n",
    "    - C5: Convolución 120 filtros 5x5 (equivalente a FC)\n",
    "    - F6: Fully connected 84 neuronas\n",
    "    - Output: Fully connected 10 neuronas (dígitos 0-9)\n",
    "    \"\"\"\n",
    "    def __init__(self):\n",
    "        super(LeNet5, self).__init__()\n",
    "        \n",
    "        # Capa convolucional C1: 1 canal entrada -> 6 canales salida\n",
    "        self.conv1 = nn.Conv2d(in_channels=1, out_channels=6, kernel_size=5, stride=1, padding=0)\n",
    "        \n",
    "        # Pooling S2: Average pooling 2x2\n",
    "        self.pool1 = nn.AvgPool2d(kernel_size=2, stride=2)\n",
    "        \n",
    "        # Capa convolucional C3: 6 canales entrada -> 16 canales salida\n",
    "        self.conv2 = nn.Conv2d(in_channels=6, out_channels=16, kernel_size=5, stride=1, padding=0)\n",
    "        \n",
    "        # Pooling S4: Average pooling 2x2\n",
    "        self.pool2 = nn.AvgPool2d(kernel_size=2, stride=2)\n",
    "        \n",
    "        # Capa convolucional C5: 16 canales entrada -> 120 canales salida (equivalente a FC)\n",
    "        self.conv3 = nn.Conv2d(in_channels=16, out_channels=120, kernel_size=5, stride=1, padding=0)\n",
    "        \n",
    "        # Capa fully connected F6: 120 -> 84\n",
    "        self.fc1 = nn.Linear(120, 84)\n",
    "        \n",
    "        # Capa de salida: 84 -> 10 (dígitos 0-9)\n",
    "        self.fc2 = nn.Linear(84, 10)\n",
    "    \n",
    "    def forward(self, x):\n",
    "        # C1 + activación tanh\n",
    "        x = torch.tanh(self.conv1(x))\n",
    "        \n",
    "        # S2: Pooling\n",
    "        x = self.pool1(x)\n",
    "        \n",
    "        # C3 + activación tanh\n",
    "        x = torch.tanh(self.conv2(x))\n",
    "        \n",
    "        # S4: Pooling\n",
    "        x = self.pool2(x)\n",
    "        \n",
    "        # C5 + activación tanh\n",
    "        x = torch.tanh(self.conv3(x))\n",
    "        \n",
    "        # Aplanar para capas fully connected\n",
    "        x = x.view(x.size(0), -1)\n",
    "        \n",
    "        # F6 + activación tanh\n",
    "        x = torch.tanh(self.fc1(x))\n",
    "        \n",
    "        # Capa de salida (sin activación, se usa con CrossEntropyLoss)\n",
    "        x = self.fc2(x)\n",
    "        \n",
    "        return x\n",
    "\n",
    "# Crear instancia del modelo\n",
    "model = LeNet5().to(device)\n",
    "\n",
    "# Mostrar arquitectura\n",
    "print(\"Arquitectura de LeNet-5:\")\n",
    "print(model)\n",
    "print(f\"\\nTotal de parámetros: {sum(p.numel() for p in model.parameters())}\")"
   ]
  },
  {
   "cell_type": "code",
   "execution_count": 18,
   "id": "47acaadf",
   "metadata": {},
   "outputs": [
    {
     "name": "stderr",
     "output_type": "stream",
     "text": [
      "                                                                                            "
     ]
    },
    {
     "name": "stdout",
     "output_type": "stream",
     "text": [
      "Epoch 1/10 - Train Loss: 0.2386, Train Acc: 0.9332 - Test Loss: 0.0870, Test Acc: 0.9722\n"
     ]
    },
    {
     "name": "stderr",
     "output_type": "stream",
     "text": [
      "                                                                                             "
     ]
    },
    {
     "name": "stdout",
     "output_type": "stream",
     "text": [
      "Epoch 2/10 - Train Loss: 0.0690, Train Acc: 0.9792 - Test Loss: 0.0550, Test Acc: 0.9827\n"
     ]
    },
    {
     "name": "stderr",
     "output_type": "stream",
     "text": [
      "                                                                                             "
     ]
    },
    {
     "name": "stdout",
     "output_type": "stream",
     "text": [
      "Epoch 3/10 - Train Loss: 0.0476, Train Acc: 0.9856 - Test Loss: 0.0444, Test Acc: 0.9850\n"
     ]
    },
    {
     "name": "stderr",
     "output_type": "stream",
     "text": [
      "                                                                                             "
     ]
    },
    {
     "name": "stdout",
     "output_type": "stream",
     "text": [
      "Epoch 4/10 - Train Loss: 0.0382, Train Acc: 0.9881 - Test Loss: 0.0428, Test Acc: 0.9870\n"
     ]
    },
    {
     "name": "stderr",
     "output_type": "stream",
     "text": [
      "                                                                                             "
     ]
    },
    {
     "name": "stdout",
     "output_type": "stream",
     "text": [
      "Epoch 5/10 - Train Loss: 0.0313, Train Acc: 0.9904 - Test Loss: 0.0392, Test Acc: 0.9874\n"
     ]
    },
    {
     "name": "stderr",
     "output_type": "stream",
     "text": [
      "                                                                                             "
     ]
    },
    {
     "name": "stdout",
     "output_type": "stream",
     "text": [
      "Epoch 6/10 - Train Loss: 0.0253, Train Acc: 0.9922 - Test Loss: 0.0402, Test Acc: 0.9866\n"
     ]
    },
    {
     "name": "stderr",
     "output_type": "stream",
     "text": [
      "                                                                                             "
     ]
    },
    {
     "name": "stdout",
     "output_type": "stream",
     "text": [
      "Epoch 7/10 - Train Loss: 0.0208, Train Acc: 0.9938 - Test Loss: 0.0378, Test Acc: 0.9877\n"
     ]
    },
    {
     "name": "stderr",
     "output_type": "stream",
     "text": [
      "                                                                                             \r"
     ]
    },
    {
     "name": "stdout",
     "output_type": "stream",
     "text": [
      "Epoch 8/10 - Train Loss: 0.0190, Train Acc: 0.9940 - Test Loss: 0.0443, Test Acc: 0.9867\n"
     ]
    },
    {
     "name": "stderr",
     "output_type": "stream",
     "text": [
      "                                                                                             "
     ]
    },
    {
     "name": "stdout",
     "output_type": "stream",
     "text": [
      "Epoch 9/10 - Train Loss: 0.0149, Train Acc: 0.9953 - Test Loss: 0.0443, Test Acc: 0.9862\n"
     ]
    },
    {
     "name": "stderr",
     "output_type": "stream",
     "text": [
      "                                                                                              \r"
     ]
    },
    {
     "name": "stdout",
     "output_type": "stream",
     "text": [
      "Epoch 10/10 - Train Loss: 0.0151, Train Acc: 0.9952 - Test Loss: 0.0426, Test Acc: 0.9865\n",
      "\n",
      "¡Entrenamiento completado!\n",
      "Accuracy final en test: 0.9865\n"
     ]
    }
   ],
   "source": [
    "# Función de pérdida y optimizador\n",
    "criterion = nn.CrossEntropyLoss()\n",
    "optimizer = optim.Adam(model.parameters(), lr=0.001)\n",
    "\n",
    "# Entrenamiento\n",
    "num_epochs = 10\n",
    "train_losses = []\n",
    "test_losses = []\n",
    "train_accs = []\n",
    "test_accs = []\n",
    "\n",
    "for epoch in range(num_epochs):\n",
    "    # Fase de entrenamiento\n",
    "    model.train()\n",
    "    running_loss = 0.0\n",
    "    correct = 0\n",
    "    total = 0\n",
    "    \n",
    "    loop = tqdm(train_loader, desc=f\"Epoch {epoch+1}/{num_epochs} [Train]\", leave=False)\n",
    "    for images, labels in loop:\n",
    "        images, labels = images.to(device), labels.to(device)\n",
    "        \n",
    "        # Forward pass\n",
    "        optimizer.zero_grad()\n",
    "        outputs = model(images)\n",
    "        loss = criterion(outputs, labels)\n",
    "        \n",
    "        # Backward pass\n",
    "        loss.backward()\n",
    "        optimizer.step()\n",
    "        \n",
    "        # Estadísticas\n",
    "        running_loss += loss.item() * images.size(0)\n",
    "        _, predicted = torch.max(outputs.data, 1)\n",
    "        total += labels.size(0)\n",
    "        correct += (predicted == labels).sum().item()\n",
    "        \n",
    "        loop.set_postfix(loss=running_loss/total, acc=correct/total)\n",
    "    \n",
    "    epoch_train_loss = running_loss / total\n",
    "    epoch_train_acc = correct / total\n",
    "    train_losses.append(epoch_train_loss)\n",
    "    train_accs.append(epoch_train_acc)\n",
    "    \n",
    "    # Fase de evaluación\n",
    "    model.eval()\n",
    "    test_loss = 0.0\n",
    "    correct = 0\n",
    "    total = 0\n",
    "    \n",
    "    with torch.no_grad():\n",
    "        for images, labels in test_loader:\n",
    "            images, labels = images.to(device), labels.to(device)\n",
    "            outputs = model(images)\n",
    "            loss = criterion(outputs, labels)\n",
    "            \n",
    "            test_loss += loss.item() * images.size(0)\n",
    "            _, predicted = torch.max(outputs.data, 1)\n",
    "            total += labels.size(0)\n",
    "            correct += (predicted == labels).sum().item()\n",
    "    \n",
    "    epoch_test_loss = test_loss / total\n",
    "    epoch_test_acc = correct / total\n",
    "    test_losses.append(epoch_test_loss)\n",
    "    test_accs.append(epoch_test_acc)\n",
    "    \n",
    "    print(f\"Epoch {epoch+1}/{num_epochs} - Train Loss: {epoch_train_loss:.4f}, Train Acc: {epoch_train_acc:.4f} - Test Loss: {epoch_test_loss:.4f}, Test Acc: {epoch_test_acc:.4f}\")\n",
    "\n",
    "print(\"\\n¡Entrenamiento completado!\")\n",
    "print(f\"Accuracy final en test: {test_accs[-1]:.4f}\")"
   ]
  },
  {
   "cell_type": "code",
   "execution_count": 19,
   "id": "d99a6af4",
   "metadata": {},
   "outputs": [
    {
     "data": {
      "image/png": "[encoded data removed]",
      "text/plain": [
       "<Figure size 1400x500 with 2 Axes>"
      ]
     },
     "metadata": {},
     "output_type": "display_data"
    }
   ],
   "source": [
    "# Visualización de resultados\n",
    "fig, axes = plt.subplots(1, 2, figsize=(14, 5))\n",
    "\n",
    "# Gráfico de pérdidas\n",
    "axes[0].plot(range(1, num_epochs+1), train_losses, label='Train Loss', marker='o')\n",
    "axes[0].plot(range(1, num_epochs+1), test_losses, label='Test Loss', marker='s')\n",
    "axes[0].set_xlabel('Época')\n",
    "axes[0].set_ylabel('Loss')\n",
    "axes[0].set_title('Pérdida de entrenamiento y prueba')\n",
    "axes[0].legend()\n",
    "axes[0].grid(True)\n",
    "\n",
    "# Gráfico de accuracy\n",
    "axes[1].plot(range(1, num_epochs+1), train_accs, label='Train Accuracy', marker='o')\n",
    "axes[1].plot(range(1, num_epochs+1), test_accs, label='Test Accuracy', marker='s')\n",
    "axes[1].set_xlabel('Época')\n",
    "axes[1].set_ylabel('Accuracy')\n",
    "axes[1].set_title('Precisión de entrenamiento y prueba')\n",
    "axes[1].legend()\n",
    "axes[1].grid(True)\n",
    "\n",
    "plt.tight_layout()\n",
    "plt.show()"
   ]
  },
  {
   "cell_type": "code",
   "execution_count": 30,
   "id": "15eb3dd7",
   "metadata": {},
   "outputs": [
    {
     "data": {
      "image/png": "[encoded data removed]",
      "text/plain": [
       "<Figure size 1000x800 with 2 Axes>"
      ]
     },
     "metadata": {},
     "output_type": "display_data"
    },
    {
     "name": "stdout",
     "output_type": "stream",
     "text": [
      "\n",
      "Reporte de Clasificación:\n",
      "              precision    recall  f1-score   support\n",
      "\n",
      "           0       0.99      0.99      0.99       980\n",
      "           1       0.99      1.00      0.99      1135\n",
      "           2       0.98      0.99      0.99      1032\n",
      "           3       0.99      0.98      0.98      1010\n",
      "           4       0.99      0.99      0.99       982\n",
      "           5       0.98      0.99      0.99       892\n",
      "           6       0.99      0.99      0.99       958\n",
      "           7       0.99      0.98      0.98      1028\n",
      "           8       0.99      0.99      0.99       974\n",
      "           9       0.98      0.98      0.98      1009\n",
      "\n",
      "    accuracy                           0.99     10000\n",
      "   macro avg       0.99      0.99      0.99     10000\n",
      "weighted avg       0.99      0.99      0.99     10000\n",
      "\n"
     ]
    }
   ],
   "source": [
    "# Visualización de predicciones en ejemplos aleatorios\n",
    "from sklearn.metrics import confusion_matrix, classification_report\n",
    "import matplotlib.pyplot as plt\n",
    "\n",
    "# Obtener predicciones en el conjunto de prueba\n",
    "model.eval()\n",
    "all_preds = []\n",
    "all_labels = []\n",
    "\n",
    "with torch.no_grad():\n",
    "    for images, labels in test_loader:\n",
    "        images = images.to(device)\n",
    "        outputs = model(images)\n",
    "        _, predicted = torch.max(outputs.data, 1)\n",
    "        all_preds.extend(predicted.cpu().numpy())\n",
    "        all_labels.extend(labels.numpy())\n",
    "\n",
    "all_preds = np.array(all_preds)\n",
    "all_labels = np.array(all_labels)\n",
    "\n",
    "# Matriz de confusión\n",
    "cm = confusion_matrix(all_labels, all_preds)\n",
    "plt.figure(figsize=(10, 8))\n",
    "plt.imshow(cm, interpolation='nearest', cmap='Blues')\n",
    "plt.colorbar()\n",
    "plt.xlabel('Predicción')\n",
    "plt.ylabel('Verdadero')\n",
    "plt.title('Matriz de Confusión - LeNet-5 en MNIST')\n",
    "\n",
    "# Agregar anotaciones\n",
    "thresh = cm.max() / 2.\n",
    "for i in range(cm.shape[0]):\n",
    "    for j in range(cm.shape[1]):\n",
    "        plt.text(j, i, format(cm[i, j], 'd'),\n",
    "                 ha=\"center\", va=\"center\",\n",
    "                 color=\"white\" if cm[i, j] > thresh else \"black\")\n",
    "\n",
    "plt.show()\n",
    "\n",
    "# Reporte de clasificación\n",
    "print(\"\\nReporte de Clasificación:\")\n",
    "print(classification_report(all_labels, all_preds, target_names=[str(i) for i in range(10)]))"
   ]
  },
  {
   "cell_type": "code",
   "execution_count": 29,
   "id": "93ff7dd7",
   "metadata": {},
   "outputs": [
    {
     "data": {
      "image/png": "[encoded data removed]",
      "text/plain": [
       "<Figure size 1200x600 with 10 Axes>"
      ]
     },
     "metadata": {},
     "output_type": "display_data"
    },
    {
     "name": "stdout",
     "output_type": "stream",
     "text": [
      "\n",
      "Modelo guardado como 'lenet5_mnist.pth'\n"
     ]
    }
   ],
   "source": [
    "# Visualizar ejemplos de predicciones\n",
    "fig, axes = plt.subplots(2, 5, figsize=(12, 6))\n",
    "axes = axes.ravel()\n",
    "\n",
    "# Obtener 10 ejemplos aleatorios del conjunto de prueba\n",
    "indices = np.random.choice(len(test_dataset), 10, replace=False)\n",
    "\n",
    "for i, idx in enumerate(indices):\n",
    "    image, true_label = test_dataset[idx]\n",
    "    \n",
    "    # Hacer predicción\n",
    "    model.eval()\n",
    "    with torch.no_grad():\n",
    "        image_input = image.unsqueeze(0).to(device)\n",
    "        output = model(image_input)\n",
    "        _, predicted = torch.max(output, 1)\n",
    "        pred_label = predicted.item()\n",
    "    \n",
    "    # Mostrar imagen\n",
    "    img = image.squeeze().cpu().numpy()\n",
    "    axes[i].imshow(img, cmap='gray')\n",
    "    axes[i].set_title(f'Real: {true_label}\\nPred: {pred_label}', \n",
    "                      color='green' if pred_label == true_label else 'red')\n",
    "    axes[i].axis('off')\n",
    "\n",
    "plt.tight_layout()\n",
    "plt.suptitle('Ejemplos de Predicciones de LeNet-5 en MNIST', y=1.02, fontsize=14)\n",
    "plt.show()\n",
    "\n",
    "# Guardar el modelo\n",
    "torch.save(model.state_dict(), 'lenet5_mnist.pth')\n",
    "print(\"\\nModelo guardado como 'lenet5_mnist.pth'\")"
   ]
  },
  {
   "cell_type": "markdown",
   "id": "b8b14f19",
   "metadata": {},
   "source": [
    "## Problema 2\n",
    "\n",
    "Lea el artículo de AlexNet [1].\n",
    "\n",
    "**Fuente:** [A. Krizhevsky, I. Sutskever, G.E. Hinton, ImageNet Classification with Deep Convolutional Neural Networks, Advances in Neural Information Processing Systems 25, 2012](https://papers.nips.cc/paper/2012/hash/c399862d3b9d6b76c8436e924a68c45b-Abstract.html)"
   ]
  },
  {
   "cell_type": "markdown",
   "id": "7efc50c6",
   "metadata": {},
   "source": [
    "Resumen:\n",
    "- LSVRC-2010\n",
    "- 1000 clases diferentes\n",
    "- Tasas de error top-1 y top-5 de 37.5% y 17.0%\n",
    "\n",
    "Conclusiones:\n",
    "Es notable que el rendimiento de su red se degrada si se elimina una sola capa convolucional.\n",
    "Por ejemplo, eliminar cualquiera de las capas intermedias resulta en una pérdida de aproximadamente 2% en el rendimiento top-1 de la red. Así que la profundidad realmente es importante para lograr los resultados.\n",
    "\n",
    "Introducción:\n",
    "\n",
    "Hablan de que el peor rate error en MNIST es del (<0.3%) similar a humanos.\n",
    "\n",
    "Habla de las implicaciones de entramiento y datasets grandes para poder probar redes profundas\n",
    "menciona que al día de hoy con convoluciones optimizadas 2d se pueden entrenar redes profundas en datasets grandes.\n",
    "\n",
    "Basicamente mencionan que crearon una red profunda con 5 capas convolucionales y 3 capas fully connected, con esto se arriesgaban a tener overfitting por la profundidad.\n",
    "\n",
    "Por último hablan de el entrenamiento con 2 GPUS  GTX 580 3GB GPUs. Que tomo 5-6 días entrenar la red.\n",
    "\n",
    "Dataset \n",
    "\n",
    "Usaron ImageNet, es un conjunto de datos con más de 15 millones de imágenes etiquetadas en 22,000 categorías. Para la competencia ILSVRC se usa un subconjunto de 1,000 clases con 1.2 millones de imágenes de entrenamiento. Las imágenes se redimensionan a 256×256 píxeles y se normalizan para adaptarse al modelo.\n",
    "\n",
    "Arquitectura\n",
    "\n",
    "La arquitectura de la red consta de ocho capas: cinco convolucionales y tres completamente conectadas. Utiliza unidades ReLU para acelerar el entrenamiento, normalización local para mejorar la generalización, y pooling superpuesto para reducir el sobreajuste. El modelo se distribuye en dos GPUs que se comunican selectivamente entre capas, lo que permite entrenar redes más grandes. La entrada es una imagen de 224×224×3, procesada por filtros convolucionales de distintos tamaños, y culmina en una capa softmax de 1000 salidas para clasificación.\n",
    "\n",
    "Sobreajuste\n",
    "\n",
    "Para reducir el sobreajuste, se aplicaron dos técnicas clave: aumento de datos (recortes, reflejos y variaciones de color) y dropout, que desactiva neuronas aleatoriamente durante el entrenamiento."
   ]
  },
  {
   "cell_type": "markdown",
   "id": "0ef917c4",
   "metadata": {},
   "source": [
    "## Problema 3\n",
    "\n",
    "Realice la implementación en Python de AlexNet y úsela para clasificar el conjunto de datos de [2]. Puede definir un problema de clasificación de su interés, como clasificar imágenes por temporada o similar.\n",
    "\n",
    "**Fuente:** [https://www.kaggle.com/datasets/paramaggarwal/fashion-product-images-small](https://www.kaggle.com/datasets/paramaggarwal/fashion-product-images-small)"
   ]
  },
  {
   "cell_type": "code",
   "execution_count": 6,
   "id": "c106dd1b",
   "metadata": {},
   "outputs": [
    {
     "name": "stdout",
     "output_type": "stream",
     "text": [
      "Total de imágenes encontradas: 44441\n"
     ]
    }
   ],
   "source": [
    "import os\n",
    "import kagglehub\n",
    "import glob\n",
    "\n",
    "path = kagglehub.dataset_download(\"paramaggarwal/fashion-product-images-small\")\n",
    "\n",
    "imagenes_dir = os.path.join(path, \"images\")\n",
    "\n",
    "# Buscar todas las imágenes jpg en el directorio\n",
    "imagenes = glob.glob(os.path.join(imagenes_dir, \"*.jpg\"))\n",
    "\n",
    "# Mostrar cuántas imágenes se encontraron y ejemplo de rutas\n",
    "print(f\"Total de imágenes encontradas: {len(imagenes)}\")"
   ]
  },
  {
   "cell_type": "code",
   "execution_count": 7,
   "id": "502eeba5",
   "metadata": {},
   "outputs": [],
   "source": [
    "import torch\n",
    "from torch.utils.data import DataLoader\n",
    "import torch.nn as nn\n",
    "import torch.nn.functional as F\n",
    "import torch.optim as optim\n",
    "from collections import OrderedDict\n"
   ]
  },
  {
   "cell_type": "code",
   "execution_count": 8,
   "id": "2479678b",
   "metadata": {},
   "outputs": [],
   "source": [
    "device = torch.device(\"cuda\" if torch.cuda.is_available() else \"cpu\")\n",
    "\n",
    "class AlexNet(nn.Module):\n",
    "    def __init__(self, num_classes=1000, dropout_p=0.5):\n",
    "        super(AlexNet, self).__init__()\n",
    "\n",
    "        self.features = nn.Sequential(\n",
    "            OrderedDict([\n",
    "                # Capa CONV_1\n",
    "                ('conv1', nn.Conv2d(3, 96, kernel_size=11, stride=4, padding=0)),\n",
    "                ('relu1', nn.ReLU(inplace=True)),\n",
    "                ('maxpool1', nn.MaxPool2d(kernel_size=3, stride=2)),\n",
    "                # Capa CONV_2\n",
    "                ('conv2', nn.Conv2d(96, 256, kernel_size=5, stride=1, padding=2)),\n",
    "                ('relu2', nn.ReLU(inplace=True)),\n",
    "                ('maxpool2', nn.MaxPool2d(kernel_size=3, stride=2)),\n",
    "                # Capa CONV_3\n",
    "                ('conv3', nn.Conv2d(256, 384, kernel_size=3, stride=1, padding=1)),\n",
    "                ('relu3', nn.ReLU(inplace=True)),\n",
    "                # Capa CONV_4\n",
    "                ('conv4', nn.Conv2d(384, 384, kernel_size=3, stride=1, padding=1)),\n",
    "                ('relu4', nn.ReLU(inplace=True)),\n",
    "                # Capa CONV_5\n",
    "                ('conv5', nn.Conv2d(384, 256, kernel_size=3, stride=1, padding=1)),\n",
    "                ('relu5', nn.ReLU(inplace=True)),\n",
    "                ('maxpool5', nn.MaxPool2d(kernel_size=3, stride=2)),\n",
    "            ])\n",
    "        )\n",
    "\n",
    "        # El paper original usa una imagen de entrada de 224x224.\n",
    "        # Después de las capas convolucionales y de pooling, el tamaño de salida\n",
    "        # de features para una entrada de 224x224x3 es 256x6x6.\n",
    "        # Vamos a calcular esto dinámicamente o puedes usar 256 * 6 * 6\n",
    "        self.avgpool = nn.AdaptiveAvgPool2d((6, 6)) # Convierte cualquier tamaño a 6x6\n",
    "\n",
    "        self.classifier = nn.Sequential(\n",
    "            OrderedDict([\n",
    "                ('dropout1', nn.Dropout(p=dropout_p)),\n",
    "                ('fc1', nn.Linear(256 * 6 * 6, 4096)), # Primera capa FC\n",
    "                ('relu6', nn.ReLU(inplace=True)),\n",
    "                ('dropout2', nn.Dropout(p=dropout_p)),\n",
    "                ('fc2', nn.Linear(4096, 4096)),       # Segunda capa FC\n",
    "                ('relu7', nn.ReLU(inplace=True)),\n",
    "                ('fc3', nn.Linear(4096, num_classes)), # Capa de salida\n",
    "            ])\n",
    "        )\n",
    "\n",
    "    def forward(self, x):\n",
    "        x = self.features(x)         # Pasa por el extractor de características (conv, relu, pool)\n",
    "        x = self.avgpool(x)          # Ajusta el tamaño espacial a 6x6\n",
    "        x = torch.flatten(x, 1)      # Aplanar la salida para la parte densa\n",
    "        x = self.classifier(x)       # Pasa por el clasificador (FC, relu, dropout)\n",
    "        return x\n",
    "    \n",
    "alex_net = AlexNet(num_classes=10).to(device)  "
   ]
  },
  {
   "cell_type": "code",
   "execution_count": 9,
   "id": "764f85aa",
   "metadata": {},
   "outputs": [
    {
     "data": {
      "text/plain": [
       "device(type='cuda')"
      ]
     },
     "execution_count": 9,
     "metadata": {},
     "output_type": "execute_result"
    }
   ],
   "source": [
    "device = torch.device(\"cuda\" if torch.cuda.is_available() else \"cpu\")\n",
    "device"
   ]
  },
  {
   "cell_type": "code",
   "execution_count": null,
   "id": "e43e4d1d",
   "metadata": {},
   "outputs": [
    {
     "name": "stdout",
     "output_type": "stream",
     "text": [
      "Total de clases encontradas: 143\n",
      "Ejemplo de mapeo: 'Shirts' -> 0\n",
      "Imágenes encontradas en disco: 44441\n",
      "Imágenes con etiqueta válida: 44419\n"
     ]
    }
   ],
   "source": [
    "import pandas as pd\n",
    "import os\n",
    "import torch\n",
    "from torch.utils.data import Dataset, DataLoader, random_split\n",
    "from torchvision import transforms, models\n",
    "from PIL import Image\n",
    "import torch.nn as nn\n",
    "import torch.optim as optim\n",
    "\n",
    "# 1. Cargar las etiquetas\n",
    "csv_path = os.path.join(path, \"styles.csv\")\n",
    "# Usamos on_bad_lines='skip' porque este CSV en particular tiene algunos errores\n",
    "df = pd.read_csv(csv_path, on_bad_lines='skip')\n",
    "\n",
    "# Nos interesan el 'id' de la imagen y su 'articleType' (la clase)\n",
    "df = df[['id', 'articleType']].copy()\n",
    "df['id'] = df['id'].astype(str) + \".jpg\" # Convertir ID a nombre de archivo (ej. 15970.jpg)\n",
    "df = df.dropna() # Eliminar filas sin datos\n",
    "\n",
    "# 2. Procesar etiquetas: Convertir texto a números\n",
    "# 'factorize' nos da dos cosas:\n",
    "# 1. 'labels': un array de números (0, 1, 2...)\n",
    "# 2. 'unique_classes': la lista de nombres de las clases\n",
    "df['label_idx'], unique_classes = pd.factorize(df['articleType'])\n",
    "num_classes = len(unique_classes)\n",
    "\n",
    "print(f\"Total de clases encontradas: {num_classes}\")\n",
    "print(f\"Ejemplo de mapeo: '{unique_classes[0]}' -> 0\")\n",
    "\n",
    "# Crear un diccionario (mapa) de id_imagen -> label_idx para acceso rápido\n",
    "label_map = dict(zip(df['id'], df['label_idx']))\n",
    "\n",
    "\n",
    "image_files_with_labels = []\n",
    "image_labels = []\n",
    "\n",
    "for img_path in imagenes:\n",
    "    img_name = os.path.basename(img_path)\n",
    "    if img_name in label_map:\n",
    "        image_files_with_labels.append(img_path)\n",
    "        image_labels.append(label_map[img_name])\n",
    "\n",
    "print(f\"Imágenes encontradas en disco: {len(imagenes)}\")\n",
    "print(f\"Imágenes con etiqueta válida: {len(image_files_with_labels)}\")"
   ]
  },
  {
   "cell_type": "code",
   "execution_count": 11,
   "id": "cee81919",
   "metadata": {},
   "outputs": [
    {
     "name": "stdout",
     "output_type": "stream",
     "text": [
      "Valores únicos de etiquetas: [  0   1   2   3   4   5   6   7   8   9  10  11  12  13  14  15  16  17\n",
      "  18  19  20  21  22  23  24  25  26  27  28  29  30  31  32  33  34  35\n",
      "  36  37  38  39  40  41  42  43  44  45  46  47  48  49  50  51  52  53\n",
      "  54  55  56  57  58  59  60  61  62  63  64  65  66  67  68  69  70  71\n",
      "  72  73  74  75  76  77  78  79  80  81  82  83  84  85  86  87  88  89\n",
      "  90  91  92  93  94  95  96  97  98  99 100 101 102 103 104 105 106 107\n",
      " 108 109 110 111 112 113 114 115 116 117 118 119 120 121 122 123 124 125\n",
      " 126 127 128 129 130 131 132 133 134 135 136 137 138 139 140 142]\n",
      "Mínimo: 0 Máximo: 142\n",
      "num_classes: 143\n",
      "num_classes corregido: 143\n"
     ]
    }
   ],
   "source": [
    "import numpy as np\n",
    "\n",
    "labels_np = np.array(image_labels)\n",
    "print(\"Valores únicos de etiquetas:\", np.unique(labels_np))\n",
    "print(\"Mínimo:\", labels_np.min(), \"Máximo:\", labels_np.max())\n",
    "print(\"num_classes:\", num_classes)\n",
    "\n",
    "# Corregir num_classes si es necesario\n",
    "num_classes = int(labels_np.max()) + 1\n",
    "print(\"num_classes corregido:\", num_classes)\n",
    "\n",
    "# Chequeo de rango\n",
    "if labels_np.min() < 0 or labels_np.max() >= num_classes:\n",
    "    print(\"¡Advertencia! Hay etiquetas fuera del rango válido para CrossEntropyLoss.\")"
   ]
  },
  {
   "cell_type": "code",
   "execution_count": 13,
   "id": "4db487d7",
   "metadata": {},
   "outputs": [
    {
     "name": "stdout",
     "output_type": "stream",
     "text": [
      "Tamaño del dataset válido: 44419\n"
     ]
    }
   ],
   "source": [
    "from tqdm import tqdm  \n",
    "import torch\n",
    "import torch.nn as nn\n",
    "import torch.optim as optim\n",
    "from torch.utils.data import Dataset, DataLoader, random_split\n",
    "from PIL import Image\n",
    "import torchvision.transforms as T\n",
    "import os\n",
    "import matplotlib.pyplot as plt\n",
    "import numpy as np\n",
    "\n",
    "# Configuración\n",
    "device = torch.device(\"cuda\" if torch.cuda.is_available() else \"cpu\")\n",
    "path = \"./\"\n",
    "num_classes = int(labels_np.max()) + 1 # Ajustar según tus etiquetas\n",
    "\n",
    "# Dataset\n",
    "class ListDataset(Dataset):\n",
    "    def __init__(self, file_paths, labels, transform=None):\n",
    "        self.file_paths = list(file_paths)\n",
    "        self.labels = list(labels)\n",
    "        self.transform = transform\n",
    "    def __len__(self):\n",
    "        return len(self.file_paths)\n",
    "    def __getitem__(self, idx):\n",
    "        img_path = self.file_paths[idx]\n",
    "        label = int(self.labels[idx])\n",
    "        img = Image.open(img_path).convert('RGB')\n",
    "        if self.transform:\n",
    "            img = self.transform(img)\n",
    "        return img, label\n",
    "\n",
    "# Transformaciones\n",
    "transform = T.Compose([\n",
    "    T.Resize((224, 224)),\n",
    "    T.ToTensor(),\n",
    "    T.Normalize(mean=[0.485, 0.456, 0.406], std=[0.229, 0.224, 0.225])\n",
    "])\n",
    "\n",
    "# Dataset completo\n",
    "dataset_full = ListDataset(image_files_with_labels, image_labels, transform=transform)\n",
    "print(f\"Tamaño del dataset válido: {len(dataset_full)}\")\n",
    "\n",
    "# Split train/val\n",
    "n_train = int(0.8 * len(dataset_full))\n",
    "n_val = len(dataset_full) - n_train\n",
    "train_ds, val_ds = random_split(dataset_full, [n_train, n_val])\n",
    "\n",
    "train_loader = DataLoader(train_ds, batch_size=32, shuffle=True, num_workers=0)\n",
    "val_loader = DataLoader(val_ds, batch_size=64, shuffle=False, num_workers=0)\n"
   ]
  },
  {
   "cell_type": "code",
   "execution_count": null,
   "id": "c396ff18",
   "metadata": {},
   "outputs": [
    {
     "name": "stdout",
     "output_type": "stream",
     "text": [
      "Tamaño del dataset válido: 44419\n",
      "Valores únicos de etiquetas: [  0   1   2   3   4   5   6   7   8   9  10  11  12  13  14  15  16  17\n",
      "  18  19  20  21  22  23  24  25  26  27  28  29  30  31  32  33  34  35\n",
      "  36  37  38  39  40  41  42  43  44  45  46  47  48  49  50  51  52  53\n",
      "  54  55  56  57  58  59  60  61  62  63  64  65  66  67  68  69  70  71\n",
      "  72  73  74  75  76  77  78  79  80  81  82  83  84  85  86  87  88  89\n",
      "  90  91  92  93  94  95  96  97  98  99 100 101 102 103 104 105 106 107\n",
      " 108 109 110 111 112 113 114 115 116 117 118 119 120 121 122 123 124 125\n",
      " 126 127 128 129 130 131 132 133 134 135 136 137 138 139 140 142]\n",
      "Mínimo: 0 Máximo: 142\n",
      "num_classes: 143\n",
      "Batch 0: images.shape=torch.Size([32, 3, 224, 224]), labels.shape=torch.Size([32])\n",
      "Valores únicos de etiquetas: [  0   1   2   3   4   5   6   7   8   9  10  11  12  13  14  15  16  17\n",
      "  18  19  20  21  22  23  24  25  26  27  28  29  30  31  32  33  34  35\n",
      "  36  37  38  39  40  41  42  43  44  45  46  47  48  49  50  51  52  53\n",
      "  54  55  56  57  58  59  60  61  62  63  64  65  66  67  68  69  70  71\n",
      "  72  73  74  75  76  77  78  79  80  81  82  83  84  85  86  87  88  89\n",
      "  90  91  92  93  94  95  96  97  98  99 100 101 102 103 104 105 106 107\n",
      " 108 109 110 111 112 113 114 115 116 117 118 119 120 121 122 123 124 125\n",
      " 126 127 128 129 130 131 132 133 134 135 136 137 138 139 140 142]\n",
      "Mínimo: 0 Máximo: 142\n",
      "num_classes: 143\n",
      "Batch 0: images.shape=torch.Size([32, 3, 224, 224]), labels.shape=torch.Size([32])\n",
      "Batch 1: images.shape=torch.Size([32, 3, 224, 224]), labels.shape=torch.Size([32])\n",
      "Batch 1: images.shape=torch.Size([32, 3, 224, 224]), labels.shape=torch.Size([32])\n",
      "Batch 2: images.shape=torch.Size([32, 3, 224, 224]), labels.shape=torch.Size([32])\n",
      "Chequeo de batches completado. Si no hay errores, puedes entrenar con seguridad.\n",
      "Batch 2: images.shape=torch.Size([32, 3, 224, 224]), labels.shape=torch.Size([32])\n",
      "Chequeo de batches completado. Si no hay errores, puedes entrenar con seguridad.\n"
     ]
    },
    {
     "name": "stderr",
     "output_type": "stream",
     "text": [
      "                                                                                                         \r"
     ]
    },
    {
     "name": "stdout",
     "output_type": "stream",
     "text": [
      "Epoch 1 - train_loss: 1.7145 - val_loss: 0.9508 - train_acc: 0.5466 - val_acc: 0.7321\n"
     ]
    },
    {
     "name": "stderr",
     "output_type": "stream",
     "text": [
      "                                                                                                          \r"
     ]
    },
    {
     "name": "stdout",
     "output_type": "stream",
     "text": [
      "Epoch 2 - train_loss: 0.8888 - val_loss: 0.7979 - train_acc: 0.7372 - val_acc: 0.7544\n"
     ]
    },
    {
     "name": "stderr",
     "output_type": "stream",
     "text": [
      "                                                                                                          \r"
     ]
    },
    {
     "name": "stdout",
     "output_type": "stream",
     "text": [
      "Epoch 3 - train_loss: 0.7105 - val_loss: 0.6688 - train_acc: 0.7808 - val_acc: 0.7965\n"
     ]
    },
    {
     "name": "stderr",
     "output_type": "stream",
     "text": [
      "                                                                                                          \r"
     ]
    },
    {
     "name": "stdout",
     "output_type": "stream",
     "text": [
      "Epoch 4 - train_loss: 0.6052 - val_loss: 0.6466 - train_acc: 0.8073 - val_acc: 0.8011\n"
     ]
    },
    {
     "name": "stderr",
     "output_type": "stream",
     "text": [
      "                                                                                                          \r"
     ]
    },
    {
     "name": "stdout",
     "output_type": "stream",
     "text": [
      "Epoch 5 - train_loss: 0.5280 - val_loss: 0.5908 - train_acc: 0.8291 - val_acc: 0.8176\n"
     ]
    },
    {
     "name": "stderr",
     "output_type": "stream",
     "text": [
      "                                                                                                          \r"
     ]
    },
    {
     "name": "stdout",
     "output_type": "stream",
     "text": [
      "Epoch 6 - train_loss: 0.4700 - val_loss: 0.5263 - train_acc: 0.8453 - val_acc: 0.8333\n"
     ]
    },
    {
     "name": "stderr",
     "output_type": "stream",
     "text": [
      "                                                                                                          \r"
     ]
    },
    {
     "name": "stdout",
     "output_type": "stream",
     "text": [
      "Epoch 7 - train_loss: 0.4155 - val_loss: 0.5730 - train_acc: 0.8605 - val_acc: 0.8373\n"
     ]
    },
    {
     "name": "stderr",
     "output_type": "stream",
     "text": [
      "                                                                                                          \r"
     ]
    },
    {
     "name": "stdout",
     "output_type": "stream",
     "text": [
      "Epoch 8 - train_loss: 0.3702 - val_loss: 0.5454 - train_acc: 0.8731 - val_acc: 0.8455\n"
     ]
    },
    {
     "name": "stderr",
     "output_type": "stream",
     "text": [
      "                                                                                                          \r"
     ]
    },
    {
     "name": "stdout",
     "output_type": "stream",
     "text": [
      "Epoch 9 - train_loss: 0.3248 - val_loss: 0.5358 - train_acc: 0.8876 - val_acc: 0.8419\n"
     ]
    },
    {
     "name": "stderr",
     "output_type": "stream",
     "text": [
      "                                                                                                           \r"
     ]
    },
    {
     "name": "stdout",
     "output_type": "stream",
     "text": [
      "Epoch 10 - train_loss: 0.2972 - val_loss: 0.5095 - train_acc: 0.8955 - val_acc: 0.8495\n"
     ]
    },
    {
     "name": "stderr",
     "output_type": "stream",
     "text": [
      "                                                                                                           \r"
     ]
    },
    {
     "name": "stdout",
     "output_type": "stream",
     "text": [
      "Epoch 11 - train_loss: 0.2636 - val_loss: 0.5325 - train_acc: 0.9067 - val_acc: 0.8504\n"
     ]
    },
    {
     "name": "stderr",
     "output_type": "stream",
     "text": [
      "                                                                                                           \r"
     ]
    },
    {
     "name": "stdout",
     "output_type": "stream",
     "text": [
      "Epoch 12 - train_loss: 0.2316 - val_loss: 0.5297 - train_acc: 0.9158 - val_acc: 0.8480\n"
     ]
    },
    {
     "name": "stderr",
     "output_type": "stream",
     "text": [
      "                                                                                                           \r"
     ]
    },
    {
     "name": "stdout",
     "output_type": "stream",
     "text": [
      "Epoch 13 - train_loss: 0.2106 - val_loss: 0.5338 - train_acc: 0.9237 - val_acc: 0.8573\n"
     ]
    },
    {
     "name": "stderr",
     "output_type": "stream",
     "text": [
      "                                                                                                           \r"
     ]
    },
    {
     "name": "stdout",
     "output_type": "stream",
     "text": [
      "Epoch 14 - train_loss: 0.1895 - val_loss: 0.5792 - train_acc: 0.9310 - val_acc: 0.8473\n"
     ]
    },
    {
     "name": "stderr",
     "output_type": "stream",
     "text": [
      "                                                                                                           "
     ]
    },
    {
     "name": "stdout",
     "output_type": "stream",
     "text": [
      "Epoch 15 - train_loss: 0.1713 - val_loss: 0.5636 - train_acc: 0.9384 - val_acc: 0.8590\n"
     ]
    },
    {
     "data": {
      "image/png": "[encoded data removed]",
      "text/plain": [
       "<Figure size 800x500 with 1 Axes>"
      ]
     },
     "metadata": {},
     "output_type": "display_data"
    },
    {
     "name": "stdout",
     "output_type": "stream",
     "text": [
      "Modelo guardado en ./alexnet_fashion.pth\n"
     ]
    }
   ],
   "source": [
    "\n",
    "# --- Celda de depuración para batches y etiquetas antes del entrenamiento ---\n",
    "import os\n",
    "os.environ['CUDA_LAUNCH_BLOCKING'] = '1'  # Forzar errores CUDA sincrónicos\n",
    "\n",
    "labels_np = np.array(image_labels)\n",
    "print(\"Valores únicos de etiquetas:\", np.unique(labels_np))\n",
    "print(\"Mínimo:\", labels_np.min(), \"Máximo:\", labels_np.max())\n",
    "print(\"num_classes:\", num_classes)\n",
    "\n",
    "# Chequeo de rango y consistencia\n",
    "assert labels_np.min() == 0, f\"Etiqueta mínima inesperada: {labels_np.min()}\"\n",
    "assert labels_np.max() == num_classes - 1, f\"Etiqueta máxima inesperada: {labels_np.max()} vs num_classes={num_classes}\"\n",
    "assert set(np.unique(labels_np)) <= set(range(num_classes)), \"Hay etiquetas fuera del rango esperado\"\n",
    "\n",
    "# Probar un batch del DataLoader\n",
    "for i, (images, labels) in enumerate(train_loader):\n",
    "    print(f\"Batch {i}: images.shape={images.shape}, labels.shape={labels.shape}\")\n",
    "    assert images.shape[0] == labels.shape[0], f\"Batch mismatch: {images.shape[0]} vs {labels.shape[0]}\"\n",
    "    if images.isnan().any():\n",
    "        print(f\"¡Batch {i} con NaN en imágenes!\")\n",
    "    if labels.min() < 0 or labels.max() >= num_classes:\n",
    "        print(f\"¡Batch {i} con etiquetas fuera de rango!\", labels)\n",
    "    if i >= 2:\n",
    "        break  # Solo probar los primeros 3 batches\n",
    "print(\"Chequeo de batches completado. Si no hay errores, puedes entrenar con seguridad.\")\n",
    "\n",
    "# Modelo\n",
    "model = AlexNet(num_classes=num_classes).to(device)  \n",
    "model.classifier[6] = nn.Linear(4096, num_classes)\n",
    "model = model.to(device)\n",
    "\n",
    "# Loss y optimizador\n",
    "criterion = nn.CrossEntropyLoss()\n",
    "optimizer = optim.Adam(model.parameters(), lr=1e-4)\n",
    "\n",
    "# Entrenamiento con registro de pérdidas\n",
    "num_epochs = 15\n",
    "train_losses = []\n",
    "val_losses = []\n",
    "for epoch in range(num_epochs):\n",
    "    model.train()\n",
    "    running_loss = 0.0\n",
    "    correct = 0\n",
    "    total = 0\n",
    "    loop = tqdm(train_loader, desc=f\"Epoch {epoch+1}/{num_epochs} [Train]\", leave=False)\n",
    "    for images, labels in loop:\n",
    "        images, labels = images.to(device), labels.to(device)\n",
    "        optimizer.zero_grad()\n",
    "        outputs = model(images)\n",
    "        loss = criterion(outputs, labels)\n",
    "        loss.backward()\n",
    "        optimizer.step()\n",
    "\n",
    "        running_loss += loss.item() * images.size(0)\n",
    "        _, preds = outputs.max(1)\n",
    "        correct += (preds == labels).sum().item()\n",
    "        total += labels.size(0)\n",
    "\n",
    "        loop.set_postfix(train_loss=running_loss/total, train_acc=correct/total)\n",
    "\n",
    "    epoch_train_loss = running_loss / total\n",
    "    train_losses.append(epoch_train_loss)\n",
    "\n",
    "    # Validación\n",
    "    model.eval()\n",
    "    val_running_loss = 0.0\n",
    "    val_correct = 0\n",
    "    val_total = 0\n",
    "    with torch.no_grad():\n",
    "        loop_val = tqdm(val_loader, desc=f\"Epoch {epoch+1}/{num_epochs} [Val]  \", leave=False)\n",
    "        for images, labels in loop_val:\n",
    "            images, labels = images.to(device), labels.to(device)\n",
    "            outputs = model(images)\n",
    "            loss = criterion(outputs, labels)\n",
    "            val_running_loss += loss.item() * images.size(0)\n",
    "            _, preds = outputs.max(1)\n",
    "            val_correct += (preds == labels).sum().item()\n",
    "            val_total += labels.size(0)\n",
    "            loop_val.set_postfix(val_acc=val_correct/val_total if val_total>0 else 0)\n",
    "\n",
    "    epoch_val_loss = val_running_loss / val_total\n",
    "    val_losses.append(epoch_val_loss)\n",
    "\n",
    "    print(f\"Epoch {epoch+1} - train_loss: {epoch_train_loss:.4f} - val_loss: {epoch_val_loss:.4f} - train_acc: {correct/total:.4f} - val_acc: {val_correct/val_total:.4f}\")\n",
    "\n",
    "# Graficar pérdidas\n",
    "plt.figure(figsize=(8,5))\n",
    "plt.plot(range(1, num_epochs+1), train_losses, label='Train Loss')\n",
    "plt.plot(range(1, num_epochs+1), val_losses, label='Val Loss')\n",
    "plt.xlabel('Época')\n",
    "plt.ylabel('Loss')\n",
    "plt.title('Pérdida de entrenamiento y validación por época')\n",
    "plt.legend()\n",
    "plt.grid(True)\n",
    "plt.show()\n",
    "\n",
    "# Guardar pesos\n",
    "out_path = os.path.join(path, 'alexnet_fashion.pth')\n",
    "torch.save(model.state_dict(), out_path)\n",
    "print('Modelo guardado en', out_path)"
   ]
  },
  {
   "cell_type": "code",
   "execution_count": 15,
   "id": "d408db46",
   "metadata": {},
   "outputs": [
    {
     "name": "stdout",
     "output_type": "stream",
     "text": [
      "Accuracy: 0.9438\n",
      "F1 macro: 0.8697\n",
      "Matriz de confusión:\n",
      "[[660   0   0 ...   0   0   0]\n",
      " [  0 119   0 ...   0   0   0]\n",
      " [  0   0 479 ...   0   0   0]\n",
      " ...\n",
      " [  0   0   0 ...   1   0   0]\n",
      " [  0   0   0 ...   0   1   0]\n",
      " [  0   0   0 ...   0   0   1]]\n"
     ]
    }
   ],
   "source": [
    "from sklearn.metrics import accuracy_score, f1_score, roc_auc_score, confusion_matrix\n",
    "import torch\n",
    "import numpy as np\n",
    "import warnings\n",
    "warnings.filterwarnings('ignore')\n",
    "\n",
    "# Definir la arquitectura igual que en el entrenamiento\n",
    "model = AlexNet(num_classes=num_classes)\n",
    "model.classifier[6] = torch.nn.Linear(4096, num_classes)\n",
    "model.load_state_dict(torch.load('alexnet_fashion.pth', map_location=device))\n",
    "model = model.to(device)\n",
    "model.eval()\n",
    "\n",
    "all_labels = []\n",
    "all_preds = []\n",
    "all_probs = []\n",
    "\n",
    "with torch.no_grad():\n",
    "    for images, labels in val_loader:\n",
    "        images = images.to(device)\n",
    "        outputs = model(images)\n",
    "        probs = torch.softmax(outputs, dim=1)\n",
    "        preds = torch.argmax(probs, dim=1)\n",
    "        all_labels.extend(labels.cpu().numpy())\n",
    "        all_preds.extend(preds.cpu().numpy())\n",
    "        all_probs.extend(probs.cpu().numpy())\n",
    "\n",
    "all_labels = np.array(all_labels)\n",
    "all_preds = np.array(all_preds)\n",
    "all_probs = np.array(all_probs)\n",
    "\n",
    "# Accuracy y F1 macro\n",
    "acc = accuracy_score(all_labels, all_preds)\n",
    "f1 = f1_score(all_labels, all_preds, average='macro')\n",
    "print(f'Accuracy: {acc:.4f}')\n",
    "print(f'F1 macro: {f1:.4f}')\n",
    "\n",
    "# Matriz de confusión\n",
    "cm = confusion_matrix(all_labels, all_preds)\n",
    "print('Matriz de confusión:')\n",
    "print(cm)"
   ]
  },
  {
   "cell_type": "markdown",
   "id": "2a3b11b3",
   "metadata": {},
   "source": [
    "## Problema 4\n",
    "\n",
    "Lea el artículo de VGG-16 [3]. Escriba las similitudes y principales diferencias entre LeNet-5, AlexNet y VGG-16.\n",
    "\n",
    "**Fuente:** [K. Simonyan, A. Zisserman, Very Deep Convolutional Networks for Large-Scale Image Recognition, arXiv:1409.1556, 2015](https://arxiv.org/abs/1409.1556)"
   ]
  },
  {
   "cell_type": "markdown",
   "id": "a2d1f9dd",
   "metadata": {},
   "source": [
    "\n",
    "| Característica         | LeNet-5 (Aprox. 1998)                    | AlexNet (2012)                          | VGG-16 (2014)                             |\n",
    "|------------------------|------------------------------------------|-----------------------------------------|-------------------------------------------|\n",
    "| Profundidad            | 7 capas (5 con pesos)                    | 8 capas (5 Conv + 3 FC)                 | 16 capas (13 Conv + 3 FC)                 |\n",
    "| Conjunto de Datos      | MNIST (dígitos 32x32 B/N)                | ImageNet (imágenes 224x224 RGB)         | ImageNet (imágenes 224x224 RGB)           |\n",
    "| Activación             | Sigmoid / Tanh                           | ReLU                                    | ReLU                                      |\n",
    "| Tipo de Pooling        | Average Pooling (Subsampling)           | Max Pooling (Superpuesto)               | Max Pooling (No superpuesto)              |\n",
    "| Tamaño de Filtros      | 5×5                                      | Grandes y variados (11×11, 5×5, 3×3)    | Muy pequeños y uniformes (3×3)            |\n",
    "| Regularización         | N/A (modelo pequeño)                     | Dropout, Aumento de Datos               | Dropout, Aumento de Datos (Scale Jitter)  |\n",
    "| Normalización          | Ninguna                                  | Local Response Normalization (LRN)      | Ninguna (LRN se probó y descartó)         |\n",
    "| Parámetros             | ~60,000                                  | ~60 millones                            | ~138 millones (Config. D)                 |\n",
    "\n",
    "\n"
   ]
  },
  {
   "cell_type": "markdown",
   "id": "4ac0518c",
   "metadata": {},
   "source": [
    "Yo lo que veo en similitudes es:\n",
    "\n",
    "- Que todas son CNNs para clasificación de imágenes.\n",
    "- Usan capas convolucionales seguidas de pooling.\n",
    "- Utilizan capas totalmente conectadas al final.\n",
    "\n",
    "Lo que veo de diferencias es:\n",
    "\n",
    "- Que LeNet- 5 es más simple y además de que utiliza una función de activación sigmoide o tanh, mientras que AlexNet y VGG-16 usan ReLU.\n",
    "- AlexNet y VGG-16 son mucho más profundas que LeNet-5, con 8 y 16 capas respectivamente.\n",
    "- AlexNet utiliza normalización local de respuesta (LRN), mientras que LeNet-5 y VGG-16 no la usan.\n",
    "- La cantidad de parametros varía exponencialmente, siendo LeNet-5 la más pequeña y VGG-16 la más grande."
   ]
  },
  {
   "cell_type": "markdown",
   "id": "e5e939cf",
   "metadata": {},
   "source": [
    "---\n",
    "\n",
    "## Referencias\n",
    "\n",
    "[1] A. Krizhevsky, I. Sutskever, G.E. Hinton, *ImageNet Classification with Deep Convolutional Neural Networks*, Advances in Neural Information Processing Systems 25, 2012.\n",
    "\n",
    "[2] Fashion Product Images (Small) Dataset: https://www.kaggle.com/datasets/paramaggarwal/fashion-product-images-small\n",
    "\n",
    "[3] K. Simonyan, A. Zisserman, *Very Deep Convolutional Networks for Large-Scale Image Recognition*, arXiv:1409.1556, 2015."
   ]
  },
  {
   "cell_type": "code",
   "execution_count": 31,
   "id": "a77a829b",
   "metadata": {},
   "outputs": [
    {
     "name": "stderr",
     "output_type": "stream",
     "text": [
      "[NbConvertApp] Converting notebook Tarea1.ipynb to html\n",
      "[NbConvertApp] WARNING | Alternative text is missing on 4 image(s).\n",
      "[NbConvertApp] Writing 651143 bytes to Tarea1.html\n"
     ]
    }
   ],
   "source": [
    "!jupyter nbconvert --to html Tarea1.ipynb"
   ]
  }
 ],
 "metadata": {
  "kernelspec": {
   "display_name": ".venv",
   "language": "python",
   "name": "python3"
  },
  "language_info": {
   "codemirror_mode": {
    "name": "ipython",
    "version": 3
   },
   "file_extension": ".py",
   "mimetype": "text/x-python",
   "name": "python",
   "nbconvert_exporter": "python",
   "pygments_lexer": "ipython3",
   "version": "3.13.1"
  }
 },
 "nbformat": 4,
 "nbformat_minor": 5
}
